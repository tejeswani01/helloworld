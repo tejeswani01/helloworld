{
 "cells": [
  {
   "cell_type": "code",
   "execution_count": 4,
   "id": "44e5027f",
   "metadata": {},
   "outputs": [
    {
     "name": "stdout",
     "output_type": "stream",
     "text": [
      "your input list:1 2 3 4 5 6 7 8 9\n",
      "[1, 2, 3, 4, 5, 6, 7, 8, 9]\n",
      "print if you want to remove alternate even or odd places in the list:even\n",
      "[2, 3, 4, 5, 6, 7, 8, 9]\n",
      "[2, 4, 5, 6, 7, 8, 9]\n",
      "[2, 4, 6, 7, 8, 9]\n",
      "[2, 4, 6, 8, 9]\n",
      "[2, 4, 6, 8]\n",
      "\n",
      "\n"
     ]
    }
   ],
   "source": [
    "def altarrelements(arr):\n",
    "    if str1 == \"odd\":\n",
    "        for i in range(0,len(arr)-1):\n",
    "            try:\n",
    "                arr.pop(i)\n",
    "                print(arr)\n",
    "            except IndexError:\n",
    "                print()\n",
    "    elif str1 == \"even\":\n",
    "        for i in range(0,len(arr)-2):\n",
    "            try:\n",
    "                arr.pop(i)\n",
    "                print(arr)\n",
    "            except IndexError:\n",
    "                print()\n",
    "    return            \n",
    "arr=list(map(int,input(\"your input list:\" ).strip().split()))\n",
    "print(arr)\n",
    "str1=input(\"print if you want to remove alternate even or odd places in the list:\")\n",
    "altarrelements(arr)"
   ]
  },
  {
   "cell_type": "code",
   "execution_count": null,
   "id": "ddb179ea",
   "metadata": {},
   "outputs": [],
   "source": []
  }
 ],
 "metadata": {
  "kernelspec": {
   "display_name": "Python 3 (ipykernel)",
   "language": "python",
   "name": "python3"
  },
  "language_info": {
   "codemirror_mode": {
    "name": "ipython",
    "version": 3
   },
   "file_extension": ".py",
   "mimetype": "text/x-python",
   "name": "python",
   "nbconvert_exporter": "python",
   "pygments_lexer": "ipython3",
   "version": "3.9.7"
  }
 },
 "nbformat": 4,
 "nbformat_minor": 5
}
